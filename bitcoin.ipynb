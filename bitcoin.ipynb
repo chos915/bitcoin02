{
 "cells": [
  {
   "cell_type": "code",
   "execution_count": 27,
   "id": "1d812129-067d-4f97-8b7f-8bea31a5c387",
   "metadata": {
    "tags": []
   },
   "outputs": [],
   "source": [
    "import pandas as pd\n",
    "import numpy as np\n",
    "import matplotlib.pyplot as plt\n",
    "from keras.models import Sequential\n",
    "from keras.layers import LSTM, Dropout, Dense, Activation\n",
    "\n",
    "import datetime"
   ]
  },
  {
   "cell_type": "code",
   "execution_count": 28,
   "id": "53671c4d-d8b7-4ea5-b11d-a6f39a9128a8",
   "metadata": {
    "tags": []
   },
   "outputs": [
    {
     "data": {
      "text/html": [
       "<div>\n",
       "<style scoped>\n",
       "    .dataframe tbody tr th:only-of-type {\n",
       "        vertical-align: middle;\n",
       "    }\n",
       "\n",
       "    .dataframe tbody tr th {\n",
       "        vertical-align: top;\n",
       "    }\n",
       "\n",
       "    .dataframe thead th {\n",
       "        text-align: right;\n",
       "    }\n",
       "</style>\n",
       "<table border=\"1\" class=\"dataframe\">\n",
       "  <thead>\n",
       "    <tr style=\"text-align: right;\">\n",
       "      <th></th>\n",
       "      <th>Date</th>\n",
       "      <th>Open</th>\n",
       "      <th>High</th>\n",
       "      <th>Low</th>\n",
       "      <th>Close</th>\n",
       "      <th>Adj Close</th>\n",
       "      <th>Volume</th>\n",
       "    </tr>\n",
       "  </thead>\n",
       "  <tbody>\n",
       "    <tr>\n",
       "      <th>0</th>\n",
       "      <td>2022-03-27</td>\n",
       "      <td>44505.355469</td>\n",
       "      <td>46827.546875</td>\n",
       "      <td>44437.292969</td>\n",
       "      <td>46820.492188</td>\n",
       "      <td>46820.492188</td>\n",
       "      <td>28160889722</td>\n",
       "    </tr>\n",
       "    <tr>\n",
       "      <th>1</th>\n",
       "      <td>2022-03-28</td>\n",
       "      <td>46821.851563</td>\n",
       "      <td>48086.835938</td>\n",
       "      <td>46690.203125</td>\n",
       "      <td>47128.003906</td>\n",
       "      <td>47128.003906</td>\n",
       "      <td>36362175703</td>\n",
       "    </tr>\n",
       "    <tr>\n",
       "      <th>2</th>\n",
       "      <td>2022-03-29</td>\n",
       "      <td>47100.437500</td>\n",
       "      <td>48022.289063</td>\n",
       "      <td>47100.437500</td>\n",
       "      <td>47465.730469</td>\n",
       "      <td>47465.730469</td>\n",
       "      <td>31397059069</td>\n",
       "    </tr>\n",
       "    <tr>\n",
       "      <th>3</th>\n",
       "      <td>2022-03-30</td>\n",
       "      <td>47456.898438</td>\n",
       "      <td>47655.148438</td>\n",
       "      <td>46746.210938</td>\n",
       "      <td>47062.664063</td>\n",
       "      <td>47062.664063</td>\n",
       "      <td>29333883962</td>\n",
       "    </tr>\n",
       "    <tr>\n",
       "      <th>4</th>\n",
       "      <td>2022-03-31</td>\n",
       "      <td>47062.148438</td>\n",
       "      <td>47512.027344</td>\n",
       "      <td>45390.539063</td>\n",
       "      <td>45538.675781</td>\n",
       "      <td>45538.675781</td>\n",
       "      <td>33327427106</td>\n",
       "    </tr>\n",
       "  </tbody>\n",
       "</table>\n",
       "</div>"
      ],
      "text/plain": [
       "         Date          Open          High           Low         Close  \\\n",
       "0  2022-03-27  44505.355469  46827.546875  44437.292969  46820.492188   \n",
       "1  2022-03-28  46821.851563  48086.835938  46690.203125  47128.003906   \n",
       "2  2022-03-29  47100.437500  48022.289063  47100.437500  47465.730469   \n",
       "3  2022-03-30  47456.898438  47655.148438  46746.210938  47062.664063   \n",
       "4  2022-03-31  47062.148438  47512.027344  45390.539063  45538.675781   \n",
       "\n",
       "      Adj Close       Volume  \n",
       "0  46820.492188  28160889722  \n",
       "1  47128.003906  36362175703  \n",
       "2  47465.730469  31397059069  \n",
       "3  47062.664063  29333883962  \n",
       "4  45538.675781  33327427106  "
      ]
     },
     "execution_count": 28,
     "metadata": {},
     "output_type": "execute_result"
    }
   ],
   "source": [
    "# Load Dataset\n",
    "\n",
    "data = pd.read_csv('BTC-USD.csv')\n",
    "data.head()"
   ]
  },
  {
   "cell_type": "code",
   "execution_count": 29,
   "id": "b32b190b-42d5-4026-b4fc-eba62b3143c4",
   "metadata": {
    "tags": []
   },
   "outputs": [],
   "source": [
    "# Compute Middle Price\n",
    "high_prices = data['High'].values\n",
    "low_prices = data['Low'].values\n",
    "mid_prices = (high_prices + low_prices)/2"
   ]
  },
  {
   "cell_type": "code",
   "execution_count": 30,
   "id": "943b0352-73de-4ed3-8993-1edb91c2038f",
   "metadata": {
    "tags": []
   },
   "outputs": [],
   "source": [
    "# Create Windows\n",
    "seq_len = 50\n",
    "sequence_length = seq_len + 1\n",
    "\n",
    "result = []\n",
    "for index in range(len(mid_prices) - sequence_length):\n",
    "    result.append(mid_prices[index: index + sequence_length])"
   ]
  },
  {
   "cell_type": "code",
   "execution_count": 31,
   "id": "c6621f7e-3162-4112-a8af-1286d7703e53",
   "metadata": {
    "tags": []
   },
   "outputs": [
    {
     "data": {
      "text/plain": [
       "((284, 50, 1), (31, 50, 1))"
      ]
     },
     "execution_count": 31,
     "metadata": {},
     "output_type": "execute_result"
    }
   ],
   "source": [
    "# Normalize Data\n",
    "normalized_data = []\n",
    "for window in result:\n",
    "    normalized_window = [((float(p)/float(window[0]))-1) for p in window]\n",
    "    normalized_data.append(normalized_window)\n",
    "    \n",
    "result = np.array(normalized_data)\n",
    "\n",
    "# split train and test data\n",
    "row = int(round(result.shape[0]*0.9))\n",
    "train = result[:row, :]\n",
    "np.random.shuffle(train)\n",
    "\n",
    "x_train = train[:, :-1]\n",
    "x_train = np.reshape(x_train, (x_train.shape[0], x_train.shape[1],1))\n",
    "y_train = train[:, -1]\n",
    "\n",
    "x_test = result[row:, :-1]\n",
    "x_test = np.reshape(x_test, (x_test.shape[0], x_test.shape[1],1))\n",
    "y_test = result[row:, -1]\n",
    "\n",
    "x_train.shape, x_test.shape"
   ]
  },
  {
   "cell_type": "code",
   "execution_count": 32,
   "id": "60e6d3c1-5d29-4c33-b5c7-f736473878ed",
   "metadata": {
    "tags": []
   },
   "outputs": [
    {
     "name": "stdout",
     "output_type": "stream",
     "text": [
      "Model: \"sequential_3\"\n",
      "_________________________________________________________________\n",
      " Layer (type)                Output Shape              Param #   \n",
      "=================================================================\n",
      " lstm_6 (LSTM)               (None, 50, 50)            10400     \n",
      "                                                                 \n",
      " lstm_7 (LSTM)               (None, 64)                29440     \n",
      "                                                                 \n",
      " dense_3 (Dense)             (None, 1)                 65        \n",
      "                                                                 \n",
      "=================================================================\n",
      "Total params: 39,905\n",
      "Trainable params: 39,905\n",
      "Non-trainable params: 0\n",
      "_________________________________________________________________\n"
     ]
    }
   ],
   "source": [
    "# Build a Model\n",
    "model = Sequential()\n",
    "\n",
    "model.add(LSTM(50, return_sequences=True, input_shape=(50,1)))\n",
    "\n",
    "model.add(LSTM(64, return_sequences=False))\n",
    "\n",
    "model.add(Dense(1, activation='linear'))\n",
    "\n",
    "model.compile(loss='mse', optimizer='rmsprop')\n",
    "\n",
    "model.summary()"
   ]
  },
  {
   "cell_type": "code",
   "execution_count": 33,
   "id": "846d1217-b9d1-4606-b035-6aaf95d3f7ab",
   "metadata": {
    "tags": []
   },
   "outputs": [
    {
     "name": "stdout",
     "output_type": "stream",
     "text": [
      "Epoch 1/20\n",
      "29/29 [==============================] - 15s 175ms/step - loss: 0.0098 - val_loss: 0.0127\n",
      "Epoch 2/20\n",
      "29/29 [==============================] - 2s 76ms/step - loss: 0.0048 - val_loss: 0.0124\n",
      "Epoch 3/20\n",
      "29/29 [==============================] - 2s 73ms/step - loss: 0.0041 - val_loss: 0.0088\n",
      "Epoch 4/20\n",
      "29/29 [==============================] - 2s 79ms/step - loss: 0.0038 - val_loss: 0.0090\n",
      "Epoch 5/20\n",
      "29/29 [==============================] - 2s 77ms/step - loss: 0.0034 - val_loss: 0.0073\n",
      "Epoch 6/20\n",
      "29/29 [==============================] - 2s 75ms/step - loss: 0.0031 - val_loss: 0.0088\n",
      "Epoch 7/20\n",
      "29/29 [==============================] - 2s 72ms/step - loss: 0.0029 - val_loss: 0.0064\n",
      "Epoch 8/20\n",
      "29/29 [==============================] - 2s 70ms/step - loss: 0.0028 - val_loss: 0.0105\n",
      "Epoch 9/20\n",
      "29/29 [==============================] - 2s 74ms/step - loss: 0.0025 - val_loss: 0.0071\n",
      "Epoch 10/20\n",
      "29/29 [==============================] - 3s 92ms/step - loss: 0.0024 - val_loss: 0.0077\n",
      "Epoch 11/20\n",
      "29/29 [==============================] - 4s 126ms/step - loss: 0.0023 - val_loss: 0.0052\n",
      "Epoch 12/20\n",
      "29/29 [==============================] - 3s 101ms/step - loss: 0.0021 - val_loss: 0.0041\n",
      "Epoch 13/20\n",
      "29/29 [==============================] - 2s 73ms/step - loss: 0.0021 - val_loss: 0.0043\n",
      "Epoch 14/20\n",
      "29/29 [==============================] - 2s 78ms/step - loss: 0.0020 - val_loss: 0.0052\n",
      "Epoch 15/20\n",
      "29/29 [==============================] - 3s 87ms/step - loss: 0.0019 - val_loss: 0.0052\n",
      "Epoch 16/20\n",
      "29/29 [==============================] - 2s 72ms/step - loss: 0.0019 - val_loss: 0.0033\n",
      "Epoch 17/20\n",
      "29/29 [==============================] - 2s 80ms/step - loss: 0.0019 - val_loss: 0.0043\n",
      "Epoch 18/20\n",
      "29/29 [==============================] - 2s 83ms/step - loss: 0.0019 - val_loss: 0.0033\n",
      "Epoch 19/20\n",
      "29/29 [==============================] - 2s 80ms/step - loss: 0.0017 - val_loss: 0.0031\n",
      "Epoch 20/20\n",
      "29/29 [==============================] - 2s 78ms/step - loss: 0.0018 - val_loss: 0.0050\n"
     ]
    },
    {
     "data": {
      "text/plain": [
       "<keras.callbacks.History at 0x1c987a38fd0>"
      ]
     },
     "execution_count": 33,
     "metadata": {},
     "output_type": "execute_result"
    }
   ],
   "source": [
    "# Training\n",
    "model.fit(x_train, y_train,\n",
    "          validation_data=(x_test, y_test),\n",
    "          batch_size=10,\n",
    "          epochs=20)"
   ]
  },
  {
   "cell_type": "code",
   "execution_count": 34,
   "id": "747d001e-613a-466d-a83e-199883c00bf7",
   "metadata": {
    "tags": []
   },
   "outputs": [
    {
     "name": "stdout",
     "output_type": "stream",
     "text": [
      "1/1 [==============================] - 2s 2s/step\n"
     ]
    },
    {
     "data": {
      "image/png": "[encoded data removed]",
      "text/plain": [
       "<Figure size 640x480 with 1 Axes>"
      ]
     },
     "metadata": {},
     "output_type": "display_data"
    }
   ],
   "source": [
    "# Prediction\n",
    "pred = model.predict(x_test)\n",
    "\n",
    "fig = plt.figure(facecolor='white')\n",
    "ax = fig.add_subplot(111)\n",
    "ax.plot(y_test, label='True')\n",
    "ax.plot(pred, label='Prediction')\n",
    "ax.legend()\n",
    "plt.show()"
   ]
  }
 ],
 "metadata": {
  "kernelspec": {
   "display_name": "Python 3 (ipykernel)",
   "language": "python",
   "name": "python3"
  },
  "language_info": {
   "codemirror_mode": {
    "name": "ipython",
    "version": 3
   },
   "file_extension": ".py",
   "mimetype": "text/x-python",
   "name": "python",
   "nbconvert_exporter": "python",
   "pygments_lexer": "ipython3",
   "version": "3.10.10"
  }
 },
 "nbformat": 4,
 "nbformat_minor": 5
}
